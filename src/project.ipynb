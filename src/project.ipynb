{
 "cells": [
  {
   "cell_type": "code",
   "execution_count": 33,
   "id": "initial_id",
   "metadata": {
    "collapsed": true,
    "ExecuteTime": {
     "end_time": "2024-03-02T18:08:46.857574Z",
     "start_time": "2024-03-02T18:08:46.838987Z"
    }
   },
   "outputs": [
    {
     "data": {
      "text/plain": "         AC     AHF     AIF  ANC    C   CC     CF   CLOC COM_RAT   Cp  ...  \\\nProject                                                                ...   \nproject   3  76.64%  82.83%    0  453  416  6.58%  3,554  11.52%  452  ...   \n\n         NTI   P       PF  ROOT  TCOM_RAT  TEST_RAT  TODO  v(G)avg v(G)tot  \\\nProject                                                                      \nproject    9  27  230.75%   239    12.97%     0.04%     3     2.41   3,816   \n\n         XML  \nProject       \nproject  140  \n\n[1 rows x 58 columns]",
      "text/html": "<div>\n<style scoped>\n    .dataframe tbody tr th:only-of-type {\n        vertical-align: middle;\n    }\n\n    .dataframe tbody tr th {\n        vertical-align: top;\n    }\n\n    .dataframe thead th {\n        text-align: right;\n    }\n</style>\n<table border=\"1\" class=\"dataframe\">\n  <thead>\n    <tr style=\"text-align: right;\">\n      <th></th>\n      <th>AC</th>\n      <th>AHF</th>\n      <th>AIF</th>\n      <th>ANC</th>\n      <th>C</th>\n      <th>CC</th>\n      <th>CF</th>\n      <th>CLOC</th>\n      <th>COM_RAT</th>\n      <th>Cp</th>\n      <th>...</th>\n      <th>NTI</th>\n      <th>P</th>\n      <th>PF</th>\n      <th>ROOT</th>\n      <th>TCOM_RAT</th>\n      <th>TEST_RAT</th>\n      <th>TODO</th>\n      <th>v(G)avg</th>\n      <th>v(G)tot</th>\n      <th>XML</th>\n    </tr>\n    <tr>\n      <th>Project</th>\n      <th></th>\n      <th></th>\n      <th></th>\n      <th></th>\n      <th></th>\n      <th></th>\n      <th></th>\n      <th></th>\n      <th></th>\n      <th></th>\n      <th></th>\n      <th></th>\n      <th></th>\n      <th></th>\n      <th></th>\n      <th></th>\n      <th></th>\n      <th></th>\n      <th></th>\n      <th></th>\n      <th></th>\n    </tr>\n  </thead>\n  <tbody>\n    <tr>\n      <th>project</th>\n      <td>3</td>\n      <td>76.64%</td>\n      <td>82.83%</td>\n      <td>0</td>\n      <td>453</td>\n      <td>416</td>\n      <td>6.58%</td>\n      <td>3,554</td>\n      <td>11.52%</td>\n      <td>452</td>\n      <td>...</td>\n      <td>9</td>\n      <td>27</td>\n      <td>230.75%</td>\n      <td>239</td>\n      <td>12.97%</td>\n      <td>0.04%</td>\n      <td>3</td>\n      <td>2.41</td>\n      <td>3,816</td>\n      <td>140</td>\n    </tr>\n  </tbody>\n</table>\n<p>1 rows × 58 columns</p>\n</div>"
     },
     "execution_count": 33,
     "metadata": {},
     "output_type": "execute_result"
    }
   ],
   "source": [
    "from src.utils import *\n",
    "df = pd.read_csv('../data/metricsreloaded/project.csv')\n",
    "df = df.set_index('Project')\n",
    "df"
   ]
  },
  {
   "cell_type": "code",
   "execution_count": 38,
   "outputs": [
    {
     "data": {
      "text/plain": "Project project\nLOC      30,853\nCC          416",
      "text/html": "<div>\n<style scoped>\n    .dataframe tbody tr th:only-of-type {\n        vertical-align: middle;\n    }\n\n    .dataframe tbody tr th {\n        vertical-align: top;\n    }\n\n    .dataframe thead th {\n        text-align: right;\n    }\n</style>\n<table border=\"1\" class=\"dataframe\">\n  <thead>\n    <tr style=\"text-align: right;\">\n      <th>Project</th>\n      <th>project</th>\n    </tr>\n  </thead>\n  <tbody>\n    <tr>\n      <th>LOC</th>\n      <td>30,853</td>\n    </tr>\n    <tr>\n      <th>CC</th>\n      <td>416</td>\n    </tr>\n  </tbody>\n</table>\n</div>"
     },
     "execution_count": 38,
     "metadata": {},
     "output_type": "execute_result"
    }
   ],
   "source": [
    "importantdf = df[SIZE_METRICS + [STRUCTURAL_COMPLEXITY[0]] ]\n",
    "# computemetrics(importantdf)\n",
    "importantdf.T"
   ],
   "metadata": {
    "collapsed": false,
    "ExecuteTime": {
     "end_time": "2024-03-02T20:05:56.490026Z",
     "start_time": "2024-03-02T20:05:56.466867Z"
    }
   },
   "id": "2c880019378bc614"
  }
 ],
 "metadata": {
  "kernelspec": {
   "display_name": "Python 3",
   "language": "python",
   "name": "python3"
  },
  "language_info": {
   "codemirror_mode": {
    "name": "ipython",
    "version": 2
   },
   "file_extension": ".py",
   "mimetype": "text/x-python",
   "name": "python",
   "nbconvert_exporter": "python",
   "pygments_lexer": "ipython2",
   "version": "2.7.6"
  }
 },
 "nbformat": 4,
 "nbformat_minor": 5
}
