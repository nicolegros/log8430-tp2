{
 "cells": [
  {
   "cell_type": "code",
   "execution_count": 1,
   "id": "initial_id",
   "metadata": {
    "collapsed": true,
    "ExecuteTime": {
     "end_time": "2024-03-02T20:27:05.906004Z",
     "start_time": "2024-03-02T20:27:05.186144Z"
    }
   },
   "outputs": [
    {
     "data": {
      "text/plain": "                                                       B   CBO  CLOC  \\\nClass                                                                  \ncom.naman14.timber.ApplicationTest                   0.0   0.0   3.0   \ncom.naman14.timber.MusicPlayer                       5.0  42.0   0.0   \ncom.naman14.timber.MusicPlayer.ServiceBinder         0.0   1.0   0.0   \ncom.naman14.timber.MusicPlayer.ServiceToken          0.0   2.0   0.0   \ncom.naman14.timber.MusicService                     44.0  34.0  19.0   \n...                                                  ...   ...   ...   \ncom.naman14.timber.widgets.ThemedPreferenceCate...   0.0   1.0   3.0   \ncom.naman14.timber.widgets.desktop.BaseWidget        0.0   3.0   3.0   \ncom.naman14.timber.widgets.desktop.SmallWidget       0.0   8.0   3.0   \ncom.naman14.timber.widgets.desktop.StandardWidget    0.0   9.0   3.0   \ncom.naman14.timber.widgets.desktop.WhiteWidget       0.0   3.0   3.0   \n\n                                                    COM_RAT (%)  Command  \\\nClass                                                                      \ncom.naman14.timber.ApplicationTest                        37.50      0.0   \ncom.naman14.timber.MusicPlayer                             0.00     24.0   \ncom.naman14.timber.MusicPlayer.ServiceBinder               0.00      2.0   \ncom.naman14.timber.MusicPlayer.ServiceToken                0.00      0.0   \ncom.naman14.timber.MusicService                            1.02     58.0   \n...                                                         ...      ...   \ncom.naman14.timber.widgets.ThemedPreferenceCate...        12.00      1.0   \ncom.naman14.timber.widgets.desktop.BaseWidget              8.33      4.0   \ncom.naman14.timber.widgets.desktop.SmallWidget             5.45      1.0   \ncom.naman14.timber.widgets.desktop.StandardWidget          4.35      1.0   \ncom.naman14.timber.widgets.desktop.WhiteWidget            33.33      0.0   \n\n                                                    Cons    CSA  CSO CSOA  \\\nClass                                                                       \ncom.naman14.timber.ApplicationTest                   1.0    0.0   13   13   \ncom.naman14.timber.MusicPlayer                       0.0    4.0   69   73   \ncom.naman14.timber.MusicPlayer.ServiceBinder         1.0    2.0   19   21   \ncom.naman14.timber.MusicPlayer.ServiceToken          1.0    1.0   13   14   \ncom.naman14.timber.MusicService                      0.0  106.0  367  473   \n...                                                  ...    ...  ...  ...   \ncom.naman14.timber.widgets.ThemedPreferenceCate...   3.0    1.0  137  138   \ncom.naman14.timber.widgets.desktop.BaseWidget        0.0    3.0   44   47   \ncom.naman14.timber.widgets.desktop.SmallWidget       0.0    0.0   46   46   \ncom.naman14.timber.widgets.desktop.StandardWidget    0.0    0.0   46   46   \ncom.naman14.timber.widgets.desktop.WhiteWidget       0.0    0.0   47   47   \n\n                                                    Cyclic  ...  PDcy  PDpt  \\\nClass                                                       ...               \ncom.naman14.timber.ApplicationTest                     0.0  ...   0.0   0.0   \ncom.naman14.timber.MusicPlayer                       121.0  ...   4.0   9.0   \ncom.naman14.timber.MusicPlayer.ServiceBinder         121.0  ...   1.0   1.0   \ncom.naman14.timber.MusicPlayer.ServiceToken            0.0  ...   0.0   2.0   \ncom.naman14.timber.MusicService                      121.0  ...   7.0   6.0   \n...                                                    ...  ...   ...   ...   \ncom.naman14.timber.widgets.ThemedPreferenceCate...     0.0  ...   1.0   0.0   \ncom.naman14.timber.widgets.desktop.BaseWidget          0.0  ...   1.0   1.0   \ncom.naman14.timber.widgets.desktop.SmallWidget         0.0  ...   3.0   0.0   \ncom.naman14.timber.widgets.desktop.StandardWidget      0.0  ...   3.0   1.0   \ncom.naman14.timber.widgets.desktop.WhiteWidget         0.0  ...   1.0   0.0   \n\n                                                    Query  RFC    STAT  SUB  \\\nClass                                                                         \ncom.naman14.timber.ApplicationTest                    0.0    2     1.0  0.0   \ncom.naman14.timber.MusicPlayer                       33.0  103   330.0  0.0   \ncom.naman14.timber.MusicPlayer.ServiceBinder          0.0    6     9.0  0.0   \ncom.naman14.timber.MusicPlayer.ServiceToken           0.0    1     1.0  0.0   \ncom.naman14.timber.MusicService                      47.0  346  1119.0  0.0   \n...                                                   ...  ...     ...  ...   \ncom.naman14.timber.widgets.ThemedPreferenceCate...    0.0   12     9.0  0.0   \ncom.naman14.timber.widgets.desktop.BaseWidget         1.0   19    14.0  3.0   \ncom.naman14.timber.widgets.desktop.SmallWidget        1.0   19    18.0  0.0   \ncom.naman14.timber.widgets.desktop.StandardWidget     1.0   20    22.0  1.0   \ncom.naman14.timber.widgets.desktop.WhiteWidget        1.0    1     1.0  0.0   \n\n                                                    TCOM_RAT (%)  TODO  \\\nClass                                                                    \ncom.naman14.timber.ApplicationTest                         60.00   0.0   \ncom.naman14.timber.MusicPlayer                              0.00   0.0   \ncom.naman14.timber.MusicPlayer.ServiceBinder                0.00   0.0   \ncom.naman14.timber.MusicPlayer.ServiceToken                 0.00   0.0   \ncom.naman14.timber.MusicService                             0.98   0.0   \n...                                                          ...   ...   \ncom.naman14.timber.widgets.ThemedPreferenceCate...         13.64   0.0   \ncom.naman14.timber.widgets.desktop.BaseWidget               9.09   0.0   \ncom.naman14.timber.widgets.desktop.SmallWidget              5.77   0.0   \ncom.naman14.timber.widgets.desktop.StandardWidget           4.55   0.0   \ncom.naman14.timber.widgets.desktop.WhiteWidget             50.00   0.0   \n\n                                                          V    WMC  \nClass                                                               \ncom.naman14.timber.ApplicationTest                     16.0    1.0  \ncom.naman14.timber.MusicPlayer                      11216.0  141.0  \ncom.naman14.timber.MusicPlayer.ServiceBinder          190.0    5.0  \ncom.naman14.timber.MusicPlayer.ServiceToken            23.0    1.0  \ncom.naman14.timber.MusicService                     54822.0  404.0  \n...                                                     ...    ...  \ncom.naman14.timber.widgets.ThemedPreferenceCate...    197.0    4.0  \ncom.naman14.timber.widgets.desktop.BaseWidget         497.0    4.0  \ncom.naman14.timber.widgets.desktop.SmallWidget        615.0    8.0  \ncom.naman14.timber.widgets.desktop.StandardWidget     788.0    9.0  \ncom.naman14.timber.widgets.desktop.WhiteWidget         15.0    1.0  \n\n[260 rows x 54 columns]",
      "text/html": "<div>\n<style scoped>\n    .dataframe tbody tr th:only-of-type {\n        vertical-align: middle;\n    }\n\n    .dataframe tbody tr th {\n        vertical-align: top;\n    }\n\n    .dataframe thead th {\n        text-align: right;\n    }\n</style>\n<table border=\"1\" class=\"dataframe\">\n  <thead>\n    <tr style=\"text-align: right;\">\n      <th></th>\n      <th>B</th>\n      <th>CBO</th>\n      <th>CLOC</th>\n      <th>COM_RAT (%)</th>\n      <th>Command</th>\n      <th>Cons</th>\n      <th>CSA</th>\n      <th>CSO</th>\n      <th>CSOA</th>\n      <th>Cyclic</th>\n      <th>...</th>\n      <th>PDcy</th>\n      <th>PDpt</th>\n      <th>Query</th>\n      <th>RFC</th>\n      <th>STAT</th>\n      <th>SUB</th>\n      <th>TCOM_RAT (%)</th>\n      <th>TODO</th>\n      <th>V</th>\n      <th>WMC</th>\n    </tr>\n    <tr>\n      <th>Class</th>\n      <th></th>\n      <th></th>\n      <th></th>\n      <th></th>\n      <th></th>\n      <th></th>\n      <th></th>\n      <th></th>\n      <th></th>\n      <th></th>\n      <th></th>\n      <th></th>\n      <th></th>\n      <th></th>\n      <th></th>\n      <th></th>\n      <th></th>\n      <th></th>\n      <th></th>\n      <th></th>\n      <th></th>\n    </tr>\n  </thead>\n  <tbody>\n    <tr>\n      <th>com.naman14.timber.ApplicationTest</th>\n      <td>0.0</td>\n      <td>0.0</td>\n      <td>3.0</td>\n      <td>37.50</td>\n      <td>0.0</td>\n      <td>1.0</td>\n      <td>0.0</td>\n      <td>13</td>\n      <td>13</td>\n      <td>0.0</td>\n      <td>...</td>\n      <td>0.0</td>\n      <td>0.0</td>\n      <td>0.0</td>\n      <td>2</td>\n      <td>1.0</td>\n      <td>0.0</td>\n      <td>60.00</td>\n      <td>0.0</td>\n      <td>16.0</td>\n      <td>1.0</td>\n    </tr>\n    <tr>\n      <th>com.naman14.timber.MusicPlayer</th>\n      <td>5.0</td>\n      <td>42.0</td>\n      <td>0.0</td>\n      <td>0.00</td>\n      <td>24.0</td>\n      <td>0.0</td>\n      <td>4.0</td>\n      <td>69</td>\n      <td>73</td>\n      <td>121.0</td>\n      <td>...</td>\n      <td>4.0</td>\n      <td>9.0</td>\n      <td>33.0</td>\n      <td>103</td>\n      <td>330.0</td>\n      <td>0.0</td>\n      <td>0.00</td>\n      <td>0.0</td>\n      <td>11216.0</td>\n      <td>141.0</td>\n    </tr>\n    <tr>\n      <th>com.naman14.timber.MusicPlayer.ServiceBinder</th>\n      <td>0.0</td>\n      <td>1.0</td>\n      <td>0.0</td>\n      <td>0.00</td>\n      <td>2.0</td>\n      <td>1.0</td>\n      <td>2.0</td>\n      <td>19</td>\n      <td>21</td>\n      <td>121.0</td>\n      <td>...</td>\n      <td>1.0</td>\n      <td>1.0</td>\n      <td>0.0</td>\n      <td>6</td>\n      <td>9.0</td>\n      <td>0.0</td>\n      <td>0.00</td>\n      <td>0.0</td>\n      <td>190.0</td>\n      <td>5.0</td>\n    </tr>\n    <tr>\n      <th>com.naman14.timber.MusicPlayer.ServiceToken</th>\n      <td>0.0</td>\n      <td>2.0</td>\n      <td>0.0</td>\n      <td>0.00</td>\n      <td>0.0</td>\n      <td>1.0</td>\n      <td>1.0</td>\n      <td>13</td>\n      <td>14</td>\n      <td>0.0</td>\n      <td>...</td>\n      <td>0.0</td>\n      <td>2.0</td>\n      <td>0.0</td>\n      <td>1</td>\n      <td>1.0</td>\n      <td>0.0</td>\n      <td>0.00</td>\n      <td>0.0</td>\n      <td>23.0</td>\n      <td>1.0</td>\n    </tr>\n    <tr>\n      <th>com.naman14.timber.MusicService</th>\n      <td>44.0</td>\n      <td>34.0</td>\n      <td>19.0</td>\n      <td>1.02</td>\n      <td>58.0</td>\n      <td>0.0</td>\n      <td>106.0</td>\n      <td>367</td>\n      <td>473</td>\n      <td>121.0</td>\n      <td>...</td>\n      <td>7.0</td>\n      <td>6.0</td>\n      <td>47.0</td>\n      <td>346</td>\n      <td>1119.0</td>\n      <td>0.0</td>\n      <td>0.98</td>\n      <td>0.0</td>\n      <td>54822.0</td>\n      <td>404.0</td>\n    </tr>\n    <tr>\n      <th>...</th>\n      <td>...</td>\n      <td>...</td>\n      <td>...</td>\n      <td>...</td>\n      <td>...</td>\n      <td>...</td>\n      <td>...</td>\n      <td>...</td>\n      <td>...</td>\n      <td>...</td>\n      <td>...</td>\n      <td>...</td>\n      <td>...</td>\n      <td>...</td>\n      <td>...</td>\n      <td>...</td>\n      <td>...</td>\n      <td>...</td>\n      <td>...</td>\n      <td>...</td>\n      <td>...</td>\n    </tr>\n    <tr>\n      <th>com.naman14.timber.widgets.ThemedPreferenceCategory</th>\n      <td>0.0</td>\n      <td>1.0</td>\n      <td>3.0</td>\n      <td>12.00</td>\n      <td>1.0</td>\n      <td>3.0</td>\n      <td>1.0</td>\n      <td>137</td>\n      <td>138</td>\n      <td>0.0</td>\n      <td>...</td>\n      <td>1.0</td>\n      <td>0.0</td>\n      <td>0.0</td>\n      <td>12</td>\n      <td>9.0</td>\n      <td>0.0</td>\n      <td>13.64</td>\n      <td>0.0</td>\n      <td>197.0</td>\n      <td>4.0</td>\n    </tr>\n    <tr>\n      <th>com.naman14.timber.widgets.desktop.BaseWidget</th>\n      <td>0.0</td>\n      <td>3.0</td>\n      <td>3.0</td>\n      <td>8.33</td>\n      <td>4.0</td>\n      <td>0.0</td>\n      <td>3.0</td>\n      <td>44</td>\n      <td>47</td>\n      <td>0.0</td>\n      <td>...</td>\n      <td>1.0</td>\n      <td>1.0</td>\n      <td>1.0</td>\n      <td>19</td>\n      <td>14.0</td>\n      <td>3.0</td>\n      <td>9.09</td>\n      <td>0.0</td>\n      <td>497.0</td>\n      <td>4.0</td>\n    </tr>\n    <tr>\n      <th>com.naman14.timber.widgets.desktop.SmallWidget</th>\n      <td>0.0</td>\n      <td>8.0</td>\n      <td>3.0</td>\n      <td>5.45</td>\n      <td>1.0</td>\n      <td>0.0</td>\n      <td>0.0</td>\n      <td>46</td>\n      <td>46</td>\n      <td>0.0</td>\n      <td>...</td>\n      <td>3.0</td>\n      <td>0.0</td>\n      <td>1.0</td>\n      <td>19</td>\n      <td>18.0</td>\n      <td>0.0</td>\n      <td>5.77</td>\n      <td>0.0</td>\n      <td>615.0</td>\n      <td>8.0</td>\n    </tr>\n    <tr>\n      <th>com.naman14.timber.widgets.desktop.StandardWidget</th>\n      <td>0.0</td>\n      <td>9.0</td>\n      <td>3.0</td>\n      <td>4.35</td>\n      <td>1.0</td>\n      <td>0.0</td>\n      <td>0.0</td>\n      <td>46</td>\n      <td>46</td>\n      <td>0.0</td>\n      <td>...</td>\n      <td>3.0</td>\n      <td>1.0</td>\n      <td>1.0</td>\n      <td>20</td>\n      <td>22.0</td>\n      <td>1.0</td>\n      <td>4.55</td>\n      <td>0.0</td>\n      <td>788.0</td>\n      <td>9.0</td>\n    </tr>\n    <tr>\n      <th>com.naman14.timber.widgets.desktop.WhiteWidget</th>\n      <td>0.0</td>\n      <td>3.0</td>\n      <td>3.0</td>\n      <td>33.33</td>\n      <td>0.0</td>\n      <td>0.0</td>\n      <td>0.0</td>\n      <td>47</td>\n      <td>47</td>\n      <td>0.0</td>\n      <td>...</td>\n      <td>1.0</td>\n      <td>0.0</td>\n      <td>1.0</td>\n      <td>1</td>\n      <td>1.0</td>\n      <td>0.0</td>\n      <td>50.00</td>\n      <td>0.0</td>\n      <td>15.0</td>\n      <td>1.0</td>\n    </tr>\n  </tbody>\n</table>\n<p>260 rows × 54 columns</p>\n</div>"
     },
     "execution_count": 1,
     "metadata": {},
     "output_type": "execute_result"
    }
   ],
   "source": [
    "from src.utils import arrangepercentage, arrangestringfloat\n",
    "\n",
    "import pandas as pd\n",
    "\n",
    "df = pd.read_csv('../data/metricsreloaded/allclasses.csv')\n",
    "for col in ['COM_RAT', 'Jf', 'Jm', 'TCOM_RAT']:\n",
    "    df[col] = df[col].apply(arrangepercentage)\n",
    "df = df.rename(columns={'COM_RAT':'COM_RAT (%)', 'Jf':'Jf (%)', 'Jm':'Jm (%)', 'TCOM_RAT':'TCOM_RAT (%)'})\n",
    "\n",
    "for col in ['E', 'N', 'NCLOC', 'STAT', 'V']:\n",
    "    df[col] = df[col].apply(arrangestringfloat)\n",
    "df = df.set_index('Class')\n",
    "df"
   ]
  },
  {
   "cell_type": "code",
   "execution_count": 2,
   "outputs": [],
   "source": [
    "\n",
    "\n",
    "from src.utils import *\n",
    "\n",
    "importantdf = df[SIZE_METRICS + HERITAGE + [COHESION[0]] + [COUPLAGE[1]] + STRUCTURAL_COMPLEXITY[1:] ]"
   ],
   "metadata": {
    "collapsed": false,
    "ExecuteTime": {
     "end_time": "2024-03-02T20:27:05.906129Z",
     "start_time": "2024-03-02T20:27:05.901217Z"
    }
   },
   "id": "e4fafcee543b220e"
  },
  {
   "cell_type": "code",
   "execution_count": 13,
   "outputs": [
    {
     "name": "stderr",
     "output_type": "stream",
     "text": [
      "/var/folders/bb/gp0zbqd9635ctmwrw8xn2zsc0000gn/T/ipykernel_86672/4072747471.py:1: FutureWarning: DataFrame.applymap has been deprecated. Use DataFrame.map instead.\n",
      "  importantdf = importantdf.applymap(arrangestringfloat)\n"
     ]
    },
    {
     "data": {
      "text/plain": "           mean         std     max  min    Total\nLOC   87.056522  178.010699  1859.0  2.0  20023.0\nDIT    2.168142    1.748155    10.0  1.0    490.0\nNOC    0.168142    0.969789    11.0  0.0     38.0\nLCOM   2.021739    2.117603    14.0  0.0    465.0\nCBO    7.395652    7.963069    49.0  0.0   1701.0\nWMC   15.730435   34.111382   404.0  0.0   3618.0\nRFC   20.980769   32.013203   346.0  0.0   5455.0",
      "text/html": "<div>\n<style scoped>\n    .dataframe tbody tr th:only-of-type {\n        vertical-align: middle;\n    }\n\n    .dataframe tbody tr th {\n        vertical-align: top;\n    }\n\n    .dataframe thead th {\n        text-align: right;\n    }\n</style>\n<table border=\"1\" class=\"dataframe\">\n  <thead>\n    <tr style=\"text-align: right;\">\n      <th></th>\n      <th>mean</th>\n      <th>std</th>\n      <th>max</th>\n      <th>min</th>\n      <th>Total</th>\n    </tr>\n  </thead>\n  <tbody>\n    <tr>\n      <th>LOC</th>\n      <td>87.056522</td>\n      <td>178.010699</td>\n      <td>1859.0</td>\n      <td>2.0</td>\n      <td>20023.0</td>\n    </tr>\n    <tr>\n      <th>DIT</th>\n      <td>2.168142</td>\n      <td>1.748155</td>\n      <td>10.0</td>\n      <td>1.0</td>\n      <td>490.0</td>\n    </tr>\n    <tr>\n      <th>NOC</th>\n      <td>0.168142</td>\n      <td>0.969789</td>\n      <td>11.0</td>\n      <td>0.0</td>\n      <td>38.0</td>\n    </tr>\n    <tr>\n      <th>LCOM</th>\n      <td>2.021739</td>\n      <td>2.117603</td>\n      <td>14.0</td>\n      <td>0.0</td>\n      <td>465.0</td>\n    </tr>\n    <tr>\n      <th>CBO</th>\n      <td>7.395652</td>\n      <td>7.963069</td>\n      <td>49.0</td>\n      <td>0.0</td>\n      <td>1701.0</td>\n    </tr>\n    <tr>\n      <th>WMC</th>\n      <td>15.730435</td>\n      <td>34.111382</td>\n      <td>404.0</td>\n      <td>0.0</td>\n      <td>3618.0</td>\n    </tr>\n    <tr>\n      <th>RFC</th>\n      <td>20.980769</td>\n      <td>32.013203</td>\n      <td>346.0</td>\n      <td>0.0</td>\n      <td>5455.0</td>\n    </tr>\n  </tbody>\n</table>\n</div>"
     },
     "execution_count": 13,
     "metadata": {},
     "output_type": "execute_result"
    }
   ],
   "source": [
    "importantdf = importantdf.applymap(arrangestringfloat)\n",
    "computemetrics(importantdf)"
   ],
   "metadata": {
    "collapsed": false,
    "ExecuteTime": {
     "end_time": "2024-03-02T20:29:55.888141Z",
     "start_time": "2024-03-02T20:29:55.867686Z"
    }
   },
   "id": "71fd900f529917bc"
  },
  {
   "cell_type": "code",
   "execution_count": 4,
   "outputs": [
    {
     "data": {
      "text/plain": "                                                    ATFD   CBO   DAC  DIT  \\\nClass Name                                                                  \ncom.naman14.timber.MusicPlayer                       0.0  42.0   2.0  1.0   \ncom.naman14.timber.MusicPlayer.ServiceBinder         1.0   1.0   2.0  1.0   \ncom.naman14.timber.MusicPlayer.ServiceToken          0.0   2.0   1.0  1.0   \ncom.naman14.timber.MusicService                      0.0  34.0  24.0  4.0   \ncom.naman14.timber.MusicService.MediaStoreObserver   0.0   1.0   1.0  2.0   \n...                                                  ...   ...   ...  ...   \ncom.naman14.timber.widgets.ThemedPreferenceCate...   1.0   1.0   1.0  4.0   \ncom.naman14.timber.widgets.desktop.BaseWidget        0.0   3.0   0.0  3.0   \ncom.naman14.timber.widgets.desktop.SmallWidget       5.0   8.0   0.0  4.0   \ncom.naman14.timber.widgets.desktop.StandardWidget    5.0   9.0   0.0  4.0   \ncom.naman14.timber.widgets.desktop.WhiteWidget       1.0   3.0   0.0  5.0   \n\n                                                         CHD          CHEF  \\\nClass Name                                                                   \ncom.naman14.timber.MusicPlayer                      194.7375  2.184262e+06   \ncom.naman14.timber.MusicPlayer.ServiceBinder         13.5000  2.567225e+03   \ncom.naman14.timber.MusicPlayer.ServiceToken           2.0000  4.652930e+01   \ncom.naman14.timber.MusicService                     877.0576  4.727052e+07   \ncom.naman14.timber.MusicService.MediaStoreObserver   12.7500  1.845613e+03   \n...                                                      ...           ...   \ncom.naman14.timber.widgets.ThemedPreferenceCate...   21.8571  4.309210e+03   \ncom.naman14.timber.widgets.desktop.BaseWidget        35.2000  1.749657e+04   \ncom.naman14.timber.widgets.desktop.SmallWidget       29.5000  1.815960e+04   \ncom.naman14.timber.widgets.desktop.StandardWidget    33.2794  2.625513e+04   \ncom.naman14.timber.widgets.desktop.WhiteWidget        2.5000  3.877440e+01   \n\n                                                       CHER     CHL   CHVC  \\\nClass Name                                                                   \ncom.naman14.timber.MusicPlayer                       5.6115  1466.0  201.0   \ncom.naman14.timber.MusicPlayer.ServiceBinder         0.0625    44.0   20.0   \ncom.naman14.timber.MusicPlayer.ServiceToken          0.0043     9.0    6.0   \ncom.naman14.timber.MusicService                     43.5785  5476.0  918.0   \ncom.naman14.timber.MusicService.MediaStoreObserver   0.0502    32.0   23.0   \n...                                                     ...     ...    ...   \ncom.naman14.timber.widgets.ThemedPreferenceCate...   0.0883    43.0   24.0   \ncom.naman14.timber.widgets.desktop.BaseWidget        0.2247    89.0   48.0   \ncom.naman14.timber.widgets.desktop.SmallWidget       0.2303   106.0   56.0   \ncom.naman14.timber.widgets.desktop.StandardWidget    0.2945   131.0   65.0   \ncom.naman14.timber.widgets.desktop.WhiteWidget       0.0038     6.0    6.0   \n\n                                                          CHVL  ...  SIZE2  \\\nClass Name                                                      ...          \ncom.naman14.timber.MusicPlayer                      11216.4418  ...   73.0   \ncom.naman14.timber.MusicPlayer.ServiceBinder          190.1648  ...   21.0   \ncom.naman14.timber.MusicPlayer.ServiceToken            23.2647  ...   14.0   \ncom.naman14.timber.MusicService                     53896.7105  ...  473.0   \ncom.naman14.timber.MusicService.MediaStoreObserver    144.7540  ...   24.0   \n...                                                        ...  ...    ...   \ncom.naman14.timber.widgets.ThemedPreferenceCate...    197.1534  ...  138.0   \ncom.naman14.timber.widgets.desktop.BaseWidget         497.0617  ...   47.0   \ncom.naman14.timber.widgets.desktop.SmallWidget        615.5796  ...   46.0   \ncom.naman14.timber.widgets.desktop.StandardWidget     788.9302  ...   46.0   \ncom.naman14.timber.widgets.desktop.WhiteWidget         15.5098  ...   47.0   \n\n                                                    NOC    NOM    NOO  NOOM  \\\nClass Name                                                                    \ncom.naman14.timber.MusicPlayer                      0.0   57.0   69.0   0.0   \ncom.naman14.timber.MusicPlayer.ServiceBinder        NaN    3.0   19.0   0.0   \ncom.naman14.timber.MusicPlayer.ServiceToken         NaN    1.0   13.0   0.0   \ncom.naman14.timber.MusicService                     0.0  105.0  367.0   5.0   \ncom.naman14.timber.MusicService.MediaStoreObserver  0.0    3.0   22.0   1.0   \n...                                                 ...    ...    ...   ...   \ncom.naman14.timber.widgets.ThemedPreferenceCate...  0.0    4.0  137.0   1.0   \ncom.naman14.timber.widgets.desktop.BaseWidget       2.0    5.0   44.0   2.0   \ncom.naman14.timber.widgets.desktop.SmallWidget      0.0    2.0   46.0   0.0   \ncom.naman14.timber.widgets.desktop.StandardWidget   1.0    2.0   46.0   0.0   \ncom.naman14.timber.widgets.desktop.WhiteWidget      0.0    1.0   47.0   1.0   \n\n                                                    NOPA    RFC     TCC  \\\nClass Name                                                                \ncom.naman14.timber.MusicPlayer                       0.0  103.0  0.5746   \ncom.naman14.timber.MusicPlayer.ServiceBinder         0.0    6.0  1.0000   \ncom.naman14.timber.MusicPlayer.ServiceToken          1.0    1.0  0.0000   \ncom.naman14.timber.MusicService                      0.0  346.0  0.2070   \ncom.naman14.timber.MusicService.MediaStoreObserver   0.0    8.0  0.0000   \n...                                                  ...    ...     ...   \ncom.naman14.timber.widgets.ThemedPreferenceCate...   0.0   12.0  0.0000   \ncom.naman14.timber.widgets.desktop.BaseWidget        0.0   19.0  0.0000   \ncom.naman14.timber.widgets.desktop.SmallWidget       0.0   19.0  0.0000   \ncom.naman14.timber.widgets.desktop.StandardWidget    0.0   20.0  0.0000   \ncom.naman14.timber.widgets.desktop.WhiteWidget       0.0    1.0  0.0000   \n\n                                                       WOC    WMC  \nClass Name                                                         \ncom.naman14.timber.MusicPlayer                      1.0000  197.0  \ncom.naman14.timber.MusicPlayer.ServiceBinder        1.0000    5.0  \ncom.naman14.timber.MusicPlayer.ServiceToken         0.0000    1.0  \ncom.naman14.timber.MusicService                     0.9619  467.0  \ncom.naman14.timber.MusicService.MediaStoreObserver  1.0000    3.0  \n...                                                    ...    ...  \ncom.naman14.timber.widgets.ThemedPreferenceCate...  1.0000    4.0  \ncom.naman14.timber.widgets.desktop.BaseWidget       1.0000    8.0  \ncom.naman14.timber.widgets.desktop.SmallWidget      1.0000    8.0  \ncom.naman14.timber.widgets.desktop.StandardWidget   1.0000    9.0  \ncom.naman14.timber.widgets.desktop.WhiteWidget      1.0000    1.0  \n\n[259 rows x 27 columns]",
      "text/html": "<div>\n<style scoped>\n    .dataframe tbody tr th:only-of-type {\n        vertical-align: middle;\n    }\n\n    .dataframe tbody tr th {\n        vertical-align: top;\n    }\n\n    .dataframe thead th {\n        text-align: right;\n    }\n</style>\n<table border=\"1\" class=\"dataframe\">\n  <thead>\n    <tr style=\"text-align: right;\">\n      <th></th>\n      <th>ATFD</th>\n      <th>CBO</th>\n      <th>DAC</th>\n      <th>DIT</th>\n      <th>CHD</th>\n      <th>CHEF</th>\n      <th>CHER</th>\n      <th>CHL</th>\n      <th>CHVC</th>\n      <th>CHVL</th>\n      <th>...</th>\n      <th>SIZE2</th>\n      <th>NOC</th>\n      <th>NOM</th>\n      <th>NOO</th>\n      <th>NOOM</th>\n      <th>NOPA</th>\n      <th>RFC</th>\n      <th>TCC</th>\n      <th>WOC</th>\n      <th>WMC</th>\n    </tr>\n    <tr>\n      <th>Class Name</th>\n      <th></th>\n      <th></th>\n      <th></th>\n      <th></th>\n      <th></th>\n      <th></th>\n      <th></th>\n      <th></th>\n      <th></th>\n      <th></th>\n      <th></th>\n      <th></th>\n      <th></th>\n      <th></th>\n      <th></th>\n      <th></th>\n      <th></th>\n      <th></th>\n      <th></th>\n      <th></th>\n      <th></th>\n    </tr>\n  </thead>\n  <tbody>\n    <tr>\n      <th>com.naman14.timber.MusicPlayer</th>\n      <td>0.0</td>\n      <td>42.0</td>\n      <td>2.0</td>\n      <td>1.0</td>\n      <td>194.7375</td>\n      <td>2.184262e+06</td>\n      <td>5.6115</td>\n      <td>1466.0</td>\n      <td>201.0</td>\n      <td>11216.4418</td>\n      <td>...</td>\n      <td>73.0</td>\n      <td>0.0</td>\n      <td>57.0</td>\n      <td>69.0</td>\n      <td>0.0</td>\n      <td>0.0</td>\n      <td>103.0</td>\n      <td>0.5746</td>\n      <td>1.0000</td>\n      <td>197.0</td>\n    </tr>\n    <tr>\n      <th>com.naman14.timber.MusicPlayer.ServiceBinder</th>\n      <td>1.0</td>\n      <td>1.0</td>\n      <td>2.0</td>\n      <td>1.0</td>\n      <td>13.5000</td>\n      <td>2.567225e+03</td>\n      <td>0.0625</td>\n      <td>44.0</td>\n      <td>20.0</td>\n      <td>190.1648</td>\n      <td>...</td>\n      <td>21.0</td>\n      <td>NaN</td>\n      <td>3.0</td>\n      <td>19.0</td>\n      <td>0.0</td>\n      <td>0.0</td>\n      <td>6.0</td>\n      <td>1.0000</td>\n      <td>1.0000</td>\n      <td>5.0</td>\n    </tr>\n    <tr>\n      <th>com.naman14.timber.MusicPlayer.ServiceToken</th>\n      <td>0.0</td>\n      <td>2.0</td>\n      <td>1.0</td>\n      <td>1.0</td>\n      <td>2.0000</td>\n      <td>4.652930e+01</td>\n      <td>0.0043</td>\n      <td>9.0</td>\n      <td>6.0</td>\n      <td>23.2647</td>\n      <td>...</td>\n      <td>14.0</td>\n      <td>NaN</td>\n      <td>1.0</td>\n      <td>13.0</td>\n      <td>0.0</td>\n      <td>1.0</td>\n      <td>1.0</td>\n      <td>0.0000</td>\n      <td>0.0000</td>\n      <td>1.0</td>\n    </tr>\n    <tr>\n      <th>com.naman14.timber.MusicService</th>\n      <td>0.0</td>\n      <td>34.0</td>\n      <td>24.0</td>\n      <td>4.0</td>\n      <td>877.0576</td>\n      <td>4.727052e+07</td>\n      <td>43.5785</td>\n      <td>5476.0</td>\n      <td>918.0</td>\n      <td>53896.7105</td>\n      <td>...</td>\n      <td>473.0</td>\n      <td>0.0</td>\n      <td>105.0</td>\n      <td>367.0</td>\n      <td>5.0</td>\n      <td>0.0</td>\n      <td>346.0</td>\n      <td>0.2070</td>\n      <td>0.9619</td>\n      <td>467.0</td>\n    </tr>\n    <tr>\n      <th>com.naman14.timber.MusicService.MediaStoreObserver</th>\n      <td>0.0</td>\n      <td>1.0</td>\n      <td>1.0</td>\n      <td>2.0</td>\n      <td>12.7500</td>\n      <td>1.845613e+03</td>\n      <td>0.0502</td>\n      <td>32.0</td>\n      <td>23.0</td>\n      <td>144.7540</td>\n      <td>...</td>\n      <td>24.0</td>\n      <td>0.0</td>\n      <td>3.0</td>\n      <td>22.0</td>\n      <td>1.0</td>\n      <td>0.0</td>\n      <td>8.0</td>\n      <td>0.0000</td>\n      <td>1.0000</td>\n      <td>3.0</td>\n    </tr>\n    <tr>\n      <th>...</th>\n      <td>...</td>\n      <td>...</td>\n      <td>...</td>\n      <td>...</td>\n      <td>...</td>\n      <td>...</td>\n      <td>...</td>\n      <td>...</td>\n      <td>...</td>\n      <td>...</td>\n      <td>...</td>\n      <td>...</td>\n      <td>...</td>\n      <td>...</td>\n      <td>...</td>\n      <td>...</td>\n      <td>...</td>\n      <td>...</td>\n      <td>...</td>\n      <td>...</td>\n      <td>...</td>\n    </tr>\n    <tr>\n      <th>com.naman14.timber.widgets.ThemedPreferenceCategory</th>\n      <td>1.0</td>\n      <td>1.0</td>\n      <td>1.0</td>\n      <td>4.0</td>\n      <td>21.8571</td>\n      <td>4.309210e+03</td>\n      <td>0.0883</td>\n      <td>43.0</td>\n      <td>24.0</td>\n      <td>197.1534</td>\n      <td>...</td>\n      <td>138.0</td>\n      <td>0.0</td>\n      <td>4.0</td>\n      <td>137.0</td>\n      <td>1.0</td>\n      <td>0.0</td>\n      <td>12.0</td>\n      <td>0.0000</td>\n      <td>1.0000</td>\n      <td>4.0</td>\n    </tr>\n    <tr>\n      <th>com.naman14.timber.widgets.desktop.BaseWidget</th>\n      <td>0.0</td>\n      <td>3.0</td>\n      <td>0.0</td>\n      <td>3.0</td>\n      <td>35.2000</td>\n      <td>1.749657e+04</td>\n      <td>0.2247</td>\n      <td>89.0</td>\n      <td>48.0</td>\n      <td>497.0617</td>\n      <td>...</td>\n      <td>47.0</td>\n      <td>2.0</td>\n      <td>5.0</td>\n      <td>44.0</td>\n      <td>2.0</td>\n      <td>0.0</td>\n      <td>19.0</td>\n      <td>0.0000</td>\n      <td>1.0000</td>\n      <td>8.0</td>\n    </tr>\n    <tr>\n      <th>com.naman14.timber.widgets.desktop.SmallWidget</th>\n      <td>5.0</td>\n      <td>8.0</td>\n      <td>0.0</td>\n      <td>4.0</td>\n      <td>29.5000</td>\n      <td>1.815960e+04</td>\n      <td>0.2303</td>\n      <td>106.0</td>\n      <td>56.0</td>\n      <td>615.5796</td>\n      <td>...</td>\n      <td>46.0</td>\n      <td>0.0</td>\n      <td>2.0</td>\n      <td>46.0</td>\n      <td>0.0</td>\n      <td>0.0</td>\n      <td>19.0</td>\n      <td>0.0000</td>\n      <td>1.0000</td>\n      <td>8.0</td>\n    </tr>\n    <tr>\n      <th>com.naman14.timber.widgets.desktop.StandardWidget</th>\n      <td>5.0</td>\n      <td>9.0</td>\n      <td>0.0</td>\n      <td>4.0</td>\n      <td>33.2794</td>\n      <td>2.625513e+04</td>\n      <td>0.2945</td>\n      <td>131.0</td>\n      <td>65.0</td>\n      <td>788.9302</td>\n      <td>...</td>\n      <td>46.0</td>\n      <td>1.0</td>\n      <td>2.0</td>\n      <td>46.0</td>\n      <td>0.0</td>\n      <td>0.0</td>\n      <td>20.0</td>\n      <td>0.0000</td>\n      <td>1.0000</td>\n      <td>9.0</td>\n    </tr>\n    <tr>\n      <th>com.naman14.timber.widgets.desktop.WhiteWidget</th>\n      <td>1.0</td>\n      <td>3.0</td>\n      <td>0.0</td>\n      <td>5.0</td>\n      <td>2.5000</td>\n      <td>3.877440e+01</td>\n      <td>0.0038</td>\n      <td>6.0</td>\n      <td>6.0</td>\n      <td>15.5098</td>\n      <td>...</td>\n      <td>47.0</td>\n      <td>0.0</td>\n      <td>1.0</td>\n      <td>47.0</td>\n      <td>1.0</td>\n      <td>0.0</td>\n      <td>1.0</td>\n      <td>0.0000</td>\n      <td>1.0000</td>\n      <td>1.0</td>\n    </tr>\n  </tbody>\n</table>\n<p>259 rows × 27 columns</p>\n</div>"
     },
     "execution_count": 4,
     "metadata": {},
     "output_type": "execute_result"
    }
   ],
   "source": [
    "otherdf = pd.read_csv('../data/metricstree/Timber-class.csv', sep=';')\n",
    "otherdf = otherdf.set_index('Class Name')\n",
    "otherdf\n"
   ],
   "metadata": {
    "collapsed": false,
    "ExecuteTime": {
     "end_time": "2024-03-02T20:27:15.992691Z",
     "start_time": "2024-03-02T20:27:15.963308Z"
    }
   },
   "id": "a95042e9bb7131af"
  },
  {
   "cell_type": "code",
   "execution_count": 5,
   "outputs": [],
   "source": [
    "from src.utils import *\n",
    "\n",
    "importantotherdf = otherdf[INTERFACE_COMPLEXITY + STRUCTURAL_COMPLEXITY[1:] + HERITAGE + [COUPLAGE[1]] + COHESION ]\n"
   ],
   "metadata": {
    "collapsed": false,
    "ExecuteTime": {
     "end_time": "2024-03-02T20:27:16.201296Z",
     "start_time": "2024-03-02T20:27:16.135682Z"
    }
   },
   "id": "f10272c70d19a076"
  },
  {
   "cell_type": "code",
   "execution_count": 6,
   "outputs": [
    {
     "data": {
      "text/plain": "             mean         std     max   min       Total\nSIZE2  135.675556  217.303825  1149.0  12.0  30527.0000\nNOM      6.831111   11.046893   105.0   0.0   1537.0000\nWMC     16.671111   40.109207   467.0   0.0   3751.0000\nRFC     23.946667   33.446877   346.0   0.0   5388.0000\nDIT      2.173333    1.750306    10.0   1.0    489.0000\nNOC      0.177570    0.995889    11.0   0.0     38.0000\nCBO      7.422222    7.979575    49.0   0.0   1670.0000\nLCOM     2.031111    2.136818    14.0   0.0    457.0000\nTCC      0.183270    0.272831     1.0   0.0     41.2358",
      "text/html": "<div>\n<style scoped>\n    .dataframe tbody tr th:only-of-type {\n        vertical-align: middle;\n    }\n\n    .dataframe tbody tr th {\n        vertical-align: top;\n    }\n\n    .dataframe thead th {\n        text-align: right;\n    }\n</style>\n<table border=\"1\" class=\"dataframe\">\n  <thead>\n    <tr style=\"text-align: right;\">\n      <th></th>\n      <th>mean</th>\n      <th>std</th>\n      <th>max</th>\n      <th>min</th>\n      <th>Total</th>\n    </tr>\n  </thead>\n  <tbody>\n    <tr>\n      <th>SIZE2</th>\n      <td>135.675556</td>\n      <td>217.303825</td>\n      <td>1149.0</td>\n      <td>12.0</td>\n      <td>30527.0000</td>\n    </tr>\n    <tr>\n      <th>NOM</th>\n      <td>6.831111</td>\n      <td>11.046893</td>\n      <td>105.0</td>\n      <td>0.0</td>\n      <td>1537.0000</td>\n    </tr>\n    <tr>\n      <th>WMC</th>\n      <td>16.671111</td>\n      <td>40.109207</td>\n      <td>467.0</td>\n      <td>0.0</td>\n      <td>3751.0000</td>\n    </tr>\n    <tr>\n      <th>RFC</th>\n      <td>23.946667</td>\n      <td>33.446877</td>\n      <td>346.0</td>\n      <td>0.0</td>\n      <td>5388.0000</td>\n    </tr>\n    <tr>\n      <th>DIT</th>\n      <td>2.173333</td>\n      <td>1.750306</td>\n      <td>10.0</td>\n      <td>1.0</td>\n      <td>489.0000</td>\n    </tr>\n    <tr>\n      <th>NOC</th>\n      <td>0.177570</td>\n      <td>0.995889</td>\n      <td>11.0</td>\n      <td>0.0</td>\n      <td>38.0000</td>\n    </tr>\n    <tr>\n      <th>CBO</th>\n      <td>7.422222</td>\n      <td>7.979575</td>\n      <td>49.0</td>\n      <td>0.0</td>\n      <td>1670.0000</td>\n    </tr>\n    <tr>\n      <th>LCOM</th>\n      <td>2.031111</td>\n      <td>2.136818</td>\n      <td>14.0</td>\n      <td>0.0</td>\n      <td>457.0000</td>\n    </tr>\n    <tr>\n      <th>TCC</th>\n      <td>0.183270</td>\n      <td>0.272831</td>\n      <td>1.0</td>\n      <td>0.0</td>\n      <td>41.2358</td>\n    </tr>\n  </tbody>\n</table>\n</div>"
     },
     "execution_count": 6,
     "metadata": {},
     "output_type": "execute_result"
    }
   ],
   "source": [
    "computemetrics(importantotherdf)"
   ],
   "metadata": {
    "collapsed": false,
    "ExecuteTime": {
     "end_time": "2024-03-02T20:27:16.384365Z",
     "start_time": "2024-03-02T20:27:16.339467Z"
    }
   },
   "id": "70098a6193da5ec8"
  }
 ],
 "metadata": {
  "kernelspec": {
   "display_name": "Python 3",
   "language": "python",
   "name": "python3"
  },
  "language_info": {
   "codemirror_mode": {
    "name": "ipython",
    "version": 2
   },
   "file_extension": ".py",
   "mimetype": "text/x-python",
   "name": "python",
   "nbconvert_exporter": "python",
   "pygments_lexer": "ipython2",
   "version": "2.7.6"
  }
 },
 "nbformat": 4,
 "nbformat_minor": 5
}
